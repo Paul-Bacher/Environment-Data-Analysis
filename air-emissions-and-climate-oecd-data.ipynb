{
 "cells": [
  {
   "cell_type": "markdown",
   "id": "54eee8be",
   "metadata": {
    "papermill": {
     "duration": 0.004664,
     "end_time": "2023-03-15T22:57:10.630474",
     "exception": false,
     "start_time": "2023-03-15T22:57:10.625810",
     "status": "completed"
    },
    "tags": []
   },
   "source": [
    "# 🏭 Air Emissions and Climate - OECD data\n",
    "---\n",
    "<a href=\"https://zupimages.net/viewer.php?id=23/11/ittd.jpg\"><img src=\"https://zupimages.net/up/23/11/ittd.jpg\" alt=\"\" /></a>\n",
    "\n",
    "As concern over the state of our planet grows, the need to analyze and understand environmental data becomes more <b>pressing</b>. In this notebook, we will delve into air and climate data, exploring datasets that cover <b>air emission accounts</b>, <b>air transport CO2 emissions</b>, <b>air pollutant emissions</b>, <b>greenhouse gases</b>, and more.\n",
    "\n",
    "The data contained within this notebook provides insight into the <b>health</b> of our planet's air and atmosphere. With information on a variety of air pollutants and greenhouse gases, we can gain a better understanding of how human <b>activity</b> impacts the environment and what measures can be taken to <b>reduce</b> our carbon footprint.\n",
    "\n",
    "Through careful analysis of this data, we can identify <b>patterns</b>, <b>correlations</b>, and <b>trends</b> that will help us make <b>informed decisions</b> about environmental policy and sustainable living. By studying these datasets, we can also gain a deeper appreciation for the <b>complexities</b> of the Earth's climate and the importance of taking <b>action</b> to protect it.\n",
    "\n",
    "Overall, this notebook is a <b>valuable resource</b> for anyone interested in exploring air and climate data. Whether you are a <b>scientist</b>, <b>policy maker</b>, or simply someone concerned about the <b>health of our planet</b>, the insights contained within these datasets are sure to be enlightening and thought-provoking. So, let's dive in and see what we can discover about the air we breathe and the climate we inhabit.\n",
    "\n",
    "# Imports"
   ]
  },
  {
   "cell_type": "code",
   "execution_count": 1,
   "id": "81e9c988",
   "metadata": {
    "execution": {
     "iopub.execute_input": "2023-03-15T22:57:10.639452Z",
     "iopub.status.busy": "2023-03-15T22:57:10.638958Z",
     "iopub.status.idle": "2023-03-15T22:57:10.649817Z",
     "shell.execute_reply": "2023-03-15T22:57:10.647931Z"
    },
    "papermill": {
     "duration": 0.019275,
     "end_time": "2023-03-15T22:57:10.653301",
     "exception": false,
     "start_time": "2023-03-15T22:57:10.634026",
     "status": "completed"
    },
    "tags": []
   },
   "outputs": [],
   "source": [
    "import pandas as pd\n",
    "import numpy as np\n",
    "import matplotlib.pyplot as plt"
   ]
  },
  {
   "cell_type": "markdown",
   "id": "4ae18d9e",
   "metadata": {
    "papermill": {
     "duration": 0.002687,
     "end_time": "2023-03-15T22:57:10.659429",
     "exception": false,
     "start_time": "2023-03-15T22:57:10.656742",
     "status": "completed"
    },
    "tags": []
   },
   "source": [
    "# Load and clean the data"
   ]
  },
  {
   "cell_type": "code",
   "execution_count": 2,
   "id": "9eda01d2",
   "metadata": {
    "execution": {
     "iopub.execute_input": "2023-03-15T22:57:10.667971Z",
     "iopub.status.busy": "2023-03-15T22:57:10.667510Z",
     "iopub.status.idle": "2023-03-15T22:57:16.284021Z",
     "shell.execute_reply": "2023-03-15T22:57:16.282784Z"
    },
    "papermill": {
     "duration": 5.623752,
     "end_time": "2023-03-15T22:57:16.286261",
     "exception": false,
     "start_time": "2023-03-15T22:57:10.662509",
     "status": "completed"
    },
    "tags": []
   },
   "outputs": [
    {
     "name": "stderr",
     "output_type": "stream",
     "text": [
      "/opt/conda/lib/python3.7/site-packages/IPython/core/interactiveshell.py:3553: DtypeWarning: Columns (17,18) have mixed types.Specify dtype option on import or set low_memory=False.\n",
      "  exec(code_obj, self.user_global_ns, self.user_ns)\n"
     ]
    },
    {
     "data": {
      "text/html": [
       "<div>\n",
       "<style scoped>\n",
       "    .dataframe tbody tr th:only-of-type {\n",
       "        vertical-align: middle;\n",
       "    }\n",
       "\n",
       "    .dataframe tbody tr th {\n",
       "        vertical-align: top;\n",
       "    }\n",
       "\n",
       "    .dataframe thead th {\n",
       "        text-align: right;\n",
       "    }\n",
       "</style>\n",
       "<table border=\"1\" class=\"dataframe\">\n",
       "  <thead>\n",
       "    <tr style=\"text-align: right;\">\n",
       "      <th></th>\n",
       "      <th>COUNTRY</th>\n",
       "      <th>POLLUTANT</th>\n",
       "      <th>ACTIVITY</th>\n",
       "      <th>MEASURE</th>\n",
       "      <th>Year</th>\n",
       "      <th>Value</th>\n",
       "    </tr>\n",
       "  </thead>\n",
       "  <tbody>\n",
       "    <tr>\n",
       "      <th>0</th>\n",
       "      <td>AUS</td>\n",
       "      <td>GHG</td>\n",
       "      <td>IND-TOTAL</td>\n",
       "      <td>TCO2</td>\n",
       "      <td>2009</td>\n",
       "      <td>529836900.0</td>\n",
       "    </tr>\n",
       "    <tr>\n",
       "      <th>1</th>\n",
       "      <td>AUS</td>\n",
       "      <td>GHG</td>\n",
       "      <td>IND-TOTAL</td>\n",
       "      <td>TCO2</td>\n",
       "      <td>2010</td>\n",
       "      <td>505860300.0</td>\n",
       "    </tr>\n",
       "    <tr>\n",
       "      <th>2</th>\n",
       "      <td>AUS</td>\n",
       "      <td>GHG</td>\n",
       "      <td>IND-TOTAL</td>\n",
       "      <td>TCO2</td>\n",
       "      <td>2011</td>\n",
       "      <td>507211900.0</td>\n",
       "    </tr>\n",
       "    <tr>\n",
       "      <th>3</th>\n",
       "      <td>AUS</td>\n",
       "      <td>GHG</td>\n",
       "      <td>IND-TOTAL</td>\n",
       "      <td>TCO2</td>\n",
       "      <td>2012</td>\n",
       "      <td>486884000.0</td>\n",
       "    </tr>\n",
       "    <tr>\n",
       "      <th>4</th>\n",
       "      <td>AUS</td>\n",
       "      <td>GHG</td>\n",
       "      <td>IND-TOTAL</td>\n",
       "      <td>TCO2</td>\n",
       "      <td>2013</td>\n",
       "      <td>480808400.0</td>\n",
       "    </tr>\n",
       "  </tbody>\n",
       "</table>\n",
       "</div>"
      ],
      "text/plain": [
       "  COUNTRY POLLUTANT   ACTIVITY MEASURE  Year        Value\n",
       "0     AUS       GHG  IND-TOTAL    TCO2  2009  529836900.0\n",
       "1     AUS       GHG  IND-TOTAL    TCO2  2010  505860300.0\n",
       "2     AUS       GHG  IND-TOTAL    TCO2  2011  507211900.0\n",
       "3     AUS       GHG  IND-TOTAL    TCO2  2012  486884000.0\n",
       "4     AUS       GHG  IND-TOTAL    TCO2  2013  480808400.0"
      ]
     },
     "execution_count": 2,
     "metadata": {},
     "output_type": "execute_result"
    }
   ],
   "source": [
    "# Load the data\n",
    "df = pd.read_csv('/kaggle/input/oecd-air-and-climate/Air Emission Accounts.csv')\n",
    "\n",
    "# Columns with only one value\n",
    "df = df.drop(['Unit Code', 'Unit', 'PowerCode Code', 'PowerCode', 'Reference Period Code',\n",
    "              'Reference Period', 'Flag Codes', 'Flags'], axis=1)\n",
    "\n",
    "# Create a mapping dictionary to find the definitions of the abbreviations\n",
    "mapping = {}\n",
    "abv_columns = ['COUNTRY', 'POLLUTANT', 'ACTIVITY', 'MEASURE']\n",
    "def_columns = ['Country', 'Pollutant', 'Activity ', 'Measure']\n",
    "for col1, col2 in zip(abv_columns, def_columns):\n",
    "    for val1, val2 in zip(df[col1].unique(), df[col2].unique()):\n",
    "        mapping[val1] = val2\n",
    "\n",
    "# Redundant definition columns\n",
    "df = df.drop(['Country', 'Pollutant', 'Activity ', 'Measure', 'YEA'], axis=1)\n",
    "\n",
    "df.head()"
   ]
  },
  {
   "cell_type": "markdown",
   "id": "7cb32288",
   "metadata": {
    "papermill": {
     "duration": 0.003235,
     "end_time": "2023-03-15T22:57:16.293114",
     "exception": false,
     "start_time": "2023-03-15T22:57:16.289879",
     "status": "completed"
    },
    "tags": []
   },
   "source": [
    "# Data exploration\n",
    "\n",
    "## Number of unique values"
   ]
  },
  {
   "cell_type": "code",
   "execution_count": 3,
   "id": "bd7d10b8",
   "metadata": {
    "execution": {
     "iopub.execute_input": "2023-03-15T22:57:16.301825Z",
     "iopub.status.busy": "2023-03-15T22:57:16.301373Z",
     "iopub.status.idle": "2023-03-15T22:57:16.538108Z",
     "shell.execute_reply": "2023-03-15T22:57:16.536848Z"
    },
    "papermill": {
     "duration": 0.244058,
     "end_time": "2023-03-15T22:57:16.540584",
     "exception": false,
     "start_time": "2023-03-15T22:57:16.296526",
     "status": "completed"
    },
    "tags": []
   },
   "outputs": [
    {
     "name": "stdout",
     "output_type": "stream",
     "text": [
      "Columns: N uniques\n",
      "\n",
      "COUNTRY: 40\n",
      "POLLUTANT: 16\n",
      "ACTIVITY: 113\n",
      "MEASURE: 5\n",
      "Year: 13\n",
      "Value: 136915\n"
     ]
    }
   ],
   "source": [
    "print(f'Columns: N uniques\\n')\n",
    "for col in df.columns:\n",
    "    print(f'{col}: {df[col].nunique()}')"
   ]
  },
  {
   "cell_type": "markdown",
   "id": "116a3cd4",
   "metadata": {
    "papermill": {
     "duration": 0.002937,
     "end_time": "2023-03-15T22:57:16.546959",
     "exception": false,
     "start_time": "2023-03-15T22:57:16.544022",
     "status": "completed"
    },
    "tags": []
   },
   "source": [
    "# Pollutants"
   ]
  },
  {
   "cell_type": "code",
   "execution_count": 4,
   "id": "40e7abbb",
   "metadata": {
    "execution": {
     "iopub.execute_input": "2023-03-15T22:57:16.555533Z",
     "iopub.status.busy": "2023-03-15T22:57:16.554316Z",
     "iopub.status.idle": "2023-03-15T22:57:16.613083Z",
     "shell.execute_reply": "2023-03-15T22:57:16.611691Z"
    },
    "papermill": {
     "duration": 0.06623,
     "end_time": "2023-03-15T22:57:16.616254",
     "exception": false,
     "start_time": "2023-03-15T22:57:16.550024",
     "status": "completed"
    },
    "tags": []
   },
   "outputs": [
    {
     "name": "stdout",
     "output_type": "stream",
     "text": [
      "GHG: Greenhouse gases Total \n",
      "CO2: Carbon dioxide\n",
      "CH4: Methane\n",
      "N2O: Nitrous oxide\n",
      "HFC: Hydrofluorocarbons\n",
      "PFC: Perfluorocarbons\n",
      "SF6: Sulphur hexafluoride\n",
      "PM2_5: Particulates (less than 2.5µm)\n",
      "CO: Carbon monoxide\n",
      "NMVOC: Non-methane volatile organic compounds\n",
      "NOX: Nitrogen oxides\n",
      "SOX: Sulphur oxides\n",
      "O3PR: Ozone precursors (NMVOC, NOX in NMVOC equivalent, CO in NMVOC equivalent, CH4 in NMVOC equivalent)\n",
      "ACG: Acidifying gases (SOX in SO2 equivalent, NOX in SO2 equivalent, NH3 in SO2 equivalent)\n",
      "NH3: Ammonia\n",
      "PM10: Particulates (less than 10µm)\n"
     ]
    }
   ],
   "source": [
    "for pol in df.POLLUTANT.unique():\n",
    "    print(f'{pol}: {mapping[pol]}')"
   ]
  },
  {
   "cell_type": "markdown",
   "id": "c2c09c02",
   "metadata": {
    "papermill": {
     "duration": 0.003506,
     "end_time": "2023-03-15T22:57:16.623986",
     "exception": false,
     "start_time": "2023-03-15T22:57:16.620480",
     "status": "completed"
    },
    "tags": []
   },
   "source": [
    "### Information\n",
    "\n",
    "- **GHG** - Gases that trap heat in the atmosphere, contributing to the greenhouse effect and climate change.\n",
    "\n",
    "- **Total CO2** - A colorless, odorless gas emitted through the burning of fossil fuels and other activities, responsible for a significant portion of the greenhouse effect.\n",
    "\n",
    "- **CH4** - A colorless, odorless gas that is a byproduct of natural gas production and other activities, contributing to the greenhouse effect.\n",
    "\n",
    "- **N2O** - A gas emitted through agricultural and industrial activities, contributing to the greenhouse effect.\n",
    "\n",
    "- **HFC** - Synthetic gases used as refrigerants, solvents, and aerosol propellants, with high global warming potential.\n",
    "\n",
    "- **PFC** - Synthetic gases used in the electronics industry and other applications, with high global warming potential.\n",
    "\n",
    "- **SF6** - A synthetic gas used in electrical equipment, with high global warming potential.\n",
    "\n",
    "- **PM2_5** - Tiny particles in the air, typically emitted by combustion and other industrial activities, that can harm human health and contribute to climate change.\n",
    "\n",
    "- **CO** - A poisonous gas produced through incomplete combustion of fossil fuels, contributing to air pollution.\n",
    "\n",
    "- **NMVOC** - Organic compounds that easily evaporate into the air, contributing to the formation of ground-level ozone and other air pollutants.\n",
    "\n",
    "- **NOX** - Gases emitted from combustion processes, contributing to smog and acid rain.\n",
    "\n",
    "- **SOX** - Gases emitted from burning coal and oil, contributing to acid rain and respiratory problems.\n",
    "\n",
    "- **O3PR** - Substances that contribute to the formation of ground-level ozone, including NMVOC, NOX, CO, and CH4.\n",
    "\n",
    "- **ACG** - Gases that contribute to acidification of soil and water, including SOX, NOX, and NH3.\n",
    "\n",
    "- **NH3** - A gas emitted from agricultural activities and other sources, contributing to air pollution and acidification.\n",
    "\n",
    "- **PM10** - Larger particles in the air, typically emitted by construction and other activities, that can harm human health and contribute to climate change."
   ]
  },
  {
   "cell_type": "markdown",
   "id": "e85a1822",
   "metadata": {
    "papermill": {
     "duration": 0.003332,
     "end_time": "2023-03-15T22:57:16.631033",
     "exception": false,
     "start_time": "2023-03-15T22:57:16.627701",
     "status": "completed"
    },
    "tags": []
   },
   "source": [
    "## Measures"
   ]
  },
  {
   "cell_type": "code",
   "execution_count": 5,
   "id": "f560f8b3",
   "metadata": {
    "execution": {
     "iopub.execute_input": "2023-03-15T22:57:16.640640Z",
     "iopub.status.busy": "2023-03-15T22:57:16.640144Z",
     "iopub.status.idle": "2023-03-15T22:57:16.699117Z",
     "shell.execute_reply": "2023-03-15T22:57:16.697953Z"
    },
    "papermill": {
     "duration": 0.06659,
     "end_time": "2023-03-15T22:57:16.701346",
     "exception": false,
     "start_time": "2023-03-15T22:57:16.634756",
     "status": "completed"
    },
    "tags": []
   },
   "outputs": [
    {
     "name": "stdout",
     "output_type": "stream",
     "text": [
      "TCO2: tonnes of CO2-equivalent\n",
      "T: tonnes of pollutant\n",
      "TNO2: tonnes of NO2-equivalent\n",
      "TNMVOC: tonnes of NMVOC equivalent\n",
      "TSO2: tonnes of SO2 equivalent\n"
     ]
    }
   ],
   "source": [
    "for pol in df.MEASURE.unique():\n",
    "    print(f'{pol}: {mapping[pol]}')"
   ]
  },
  {
   "cell_type": "markdown",
   "id": "fc979dc6",
   "metadata": {
    "papermill": {
     "duration": 0.003731,
     "end_time": "2023-03-15T22:57:16.709624",
     "exception": false,
     "start_time": "2023-03-15T22:57:16.705893",
     "status": "completed"
    },
    "tags": []
   },
   "source": [
    "### Information\n",
    "\n",
    "**The most commonly used metrics are:**\n",
    "\n",
    "- TCO2 to express the total emissions of all greenhouse gases in terms of carbon dioxide.\n",
    "- T to express the total amount of a particular pollutant emitted by a source over a specific period.\n",
    "- TNMVOC to express the total emissions of all NMVOCs in terms of the equivalent amount of a single NMVOC, usually benzene, that would produce the same environmental impact over a specific period.\n",
    "\n",
    "**TNO2** and **TSO2** are less commonly used metrics, but they are still relevant for specific contexts such as air quality management and acid rain assessments.\n",
    "\n",
    "**Here are some conversions between these metrics:**\n",
    "\n",
    "To convert from TNO2 or TSO2 to TCO2, we need to use the Global Warming Potential (GWP) of each pollutant, which is the factor used to convert the warming effect of a certain amount of the pollutant to that of CO2.\n",
    "\n",
    "- 1 TNO2 = 298 TCO2\n",
    "- 1 TSO2 = 1 TCO2"
   ]
  },
  {
   "cell_type": "markdown",
   "id": "3aef7338",
   "metadata": {
    "papermill": {
     "duration": 0.003264,
     "end_time": "2023-03-15T22:57:16.716661",
     "exception": false,
     "start_time": "2023-03-15T22:57:16.713397",
     "status": "completed"
    },
    "tags": []
   },
   "source": [
    "# TO CONTINUE"
   ]
  }
 ],
 "metadata": {
  "kernelspec": {
   "display_name": "Python 3",
   "language": "python",
   "name": "python3"
  },
  "language_info": {
   "codemirror_mode": {
    "name": "ipython",
    "version": 3
   },
   "file_extension": ".py",
   "mimetype": "text/x-python",
   "name": "python",
   "nbconvert_exporter": "python",
   "pygments_lexer": "ipython3",
   "version": "3.7.12"
  },
  "papermill": {
   "default_parameters": {},
   "duration": 16.054676,
   "end_time": "2023-03-15T22:57:17.445836",
   "environment_variables": {},
   "exception": null,
   "input_path": "__notebook__.ipynb",
   "output_path": "__notebook__.ipynb",
   "parameters": {},
   "start_time": "2023-03-15T22:57:01.391160",
   "version": "2.4.0"
  }
 },
 "nbformat": 4,
 "nbformat_minor": 5
}
